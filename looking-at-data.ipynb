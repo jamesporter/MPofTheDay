{
 "metadata": {
  "name": "looking-at-data"
 },
 "nbformat": 3,
 "nbformat_minor": 0,
 "worksheets": [
  {
   "cells": [
    {
     "cell_type": "code",
     "collapsed": false,
     "input": [
      "import pandas as pd"
     ],
     "language": "python",
     "metadata": {},
     "outputs": [],
     "prompt_number": 1
    },
    {
     "cell_type": "code",
     "collapsed": false,
     "input": [
      "mpdata = pd.read_json(\"data.json\")"
     ],
     "language": "python",
     "metadata": {},
     "outputs": [],
     "prompt_number": 2
    },
    {
     "cell_type": "code",
     "collapsed": false,
     "input": [
      "mpdata"
     ],
     "language": "python",
     "metadata": {},
     "outputs": [
      {
       "html": [
        "<pre>\n",
        "&lt;class 'pandas.core.frame.DataFrame'&gt;\n",
        "Int64Index: 650 entries, 0 to 649\n",
        "Data columns (total 6 columns):\n",
        "interests    645  non-null values\n",
        "name         650  non-null values\n",
        "twfy_dob     396  non-null values\n",
        "twfy_id      650  non-null values\n",
        "wiki_dob     573  non-null values\n",
        "wiki_url     629  non-null values\n",
        "dtypes: int64(1), object(5)\n",
        "</pre>"
       ],
       "output_type": "pyout",
       "prompt_number": 3,
       "text": [
        "<class 'pandas.core.frame.DataFrame'>\n",
        "Int64Index: 650 entries, 0 to 649\n",
        "Data columns (total 6 columns):\n",
        "interests    645  non-null values\n",
        "name         650  non-null values\n",
        "twfy_dob     396  non-null values\n",
        "twfy_id      650  non-null values\n",
        "wiki_dob     573  non-null values\n",
        "wiki_url     629  non-null values\n",
        "dtypes: int64(1), object(5)"
       ]
      }
     ],
     "prompt_number": 3
    },
    {
     "cell_type": "code",
     "collapsed": false,
     "input": [
      "mpdata.wiki_url"
     ],
     "language": "python",
     "metadata": {},
     "outputs": [
      {
       "output_type": "pyout",
       "prompt_number": 5,
       "text": [
        "0       http://en.wikipedia.org/wiki/Bridget_Phillipson\n",
        "1           http://en.wikipedia.org/wiki/Sharon_Hodgson\n",
        "2            http://en.wikipedia.org/wiki/Julie_Elliott\n",
        "3               http://en.wikipedia.org/wiki/Naomi_Long\n",
        "4           http://en.wikipedia.org/wiki/Ian_Paisley_Jr\n",
        "5              http://en.wikipedia.org/wiki/Pat_Doherty\n",
        "6              http://en.wikipedia.org/wiki/Kevan_Jones\n",
        "7               http://en.wikipedia.org/wiki/Steve_Webb\n",
        "8            http://en.wikipedia.org/wiki/Jenny_Chapman\n",
        "9        http://en.wikipedia.org/wiki/Jeffrey_Donaldson\n",
        "10          http://en.wikipedia.org/wiki/Hywel_Williams\n",
        "11          http://en.wikipedia.org/wiki/Chris_Skidmore\n",
        "12    http://en.wikipedia.org/wiki/Charles_Walker_(B...\n",
        "13            http://en.wikipedia.org/wiki/Tom_Greatrex\n",
        "14    http://en.wikipedia.org/wiki/David_Simpson_(UK...\n",
        "...\n",
        "635                                            None\n",
        "636                                            None\n",
        "637        http://en.wikipedia.org/wiki/Paul_Maskey\n",
        "638                                            None\n",
        "639                                            None\n",
        "640    http://en.wikipedia.org/wiki/George_Galloway\n",
        "641                                            None\n",
        "642                                            None\n",
        "643                                            None\n",
        "644                                            None\n",
        "645                                            None\n",
        "646                                            None\n",
        "647                                            None\n",
        "648     http://en.wikipedia.org/wiki/Francie_Molloy\n",
        "649                                            None\n",
        "Name: wiki_url, Length: 650, dtype: object"
       ]
      }
     ],
     "prompt_number": 5
    },
    {
     "cell_type": "code",
     "collapsed": false,
     "input": [
      "a_dob = mpdata.twfy_dob.notnull() | mpdata.wiki_dob.notnull()"
     ],
     "language": "python",
     "metadata": {},
     "outputs": [],
     "prompt_number": 9
    },
    {
     "cell_type": "code",
     "collapsed": false,
     "input": [
      "a_dob.value_counts()"
     ],
     "language": "python",
     "metadata": {},
     "outputs": [
      {
       "output_type": "pyout",
       "prompt_number": 11,
       "text": [
        "True     612\n",
        "False     38\n",
        "dtype: int64"
       ]
      }
     ],
     "prompt_number": 11
    },
    {
     "cell_type": "code",
     "collapsed": false,
     "input": [],
     "language": "python",
     "metadata": {},
     "outputs": []
    }
   ],
   "metadata": {}
  }
 ]
}