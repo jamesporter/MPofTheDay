{
 "metadata": {
  "name": "Constituency Data"
 },
 "nbformat": 3,
 "nbformat_minor": 0,
 "worksheets": [
  {
   "cells": [
    {
     "cell_type": "code",
     "collapsed": false,
     "input": [
      "import pandas as pd"
     ],
     "language": "python",
     "metadata": {},
     "outputs": [],
     "prompt_number": 1
    },
    {
     "cell_type": "code",
     "collapsed": false,
     "input": [
      "unem = pd.read_json(\"Unemployment.json\")\n",
      "wage = pd.read_json(\"Wages.json\")"
     ],
     "language": "python",
     "metadata": {},
     "outputs": [],
     "prompt_number": 3
    },
    {
     "cell_type": "code",
     "collapsed": false,
     "input": [
      "unem"
     ],
     "language": "python",
     "metadata": {},
     "outputs": [
      {
       "html": [
        "<pre>\n",
        "&lt;class 'pandas.core.frame.DataFrame'&gt;\n",
        "Int64Index: 26650 entries, 0 to 26649\n",
        "Data columns (total 5 columns):\n",
        "Copyright     26650  non-null values\n",
        "LastUpdate    26650  non-null values\n",
        "Notes         26650  non-null values\n",
        "Rows          26650  non-null values\n",
        "Source        26650  non-null values\n",
        "dtypes: object(5)\n",
        "</pre>"
       ],
       "output_type": "pyout",
       "prompt_number": 4,
       "text": [
        "<class 'pandas.core.frame.DataFrame'>\n",
        "Int64Index: 26650 entries, 0 to 26649\n",
        "Data columns (total 5 columns):\n",
        "Copyright     26650  non-null values\n",
        "LastUpdate    26650  non-null values\n",
        "Notes         26650  non-null values\n",
        "Rows          26650  non-null values\n",
        "Source        26650  non-null values\n",
        "dtypes: object(5)"
       ]
      }
     ],
     "prompt_number": 4
    },
    {
     "cell_type": "code",
     "collapsed": false,
     "input": [
      "wage"
     ],
     "language": "python",
     "metadata": {},
     "outputs": [
      {
       "html": [
        "<pre>\n",
        "&lt;class 'pandas.core.frame.DataFrame'&gt;\n",
        "Int64Index: 650 entries, 0 to 649\n",
        "Data columns (total 5 columns):\n",
        "Copyright     650  non-null values\n",
        "LastUpdate    650  non-null values\n",
        "Notes         650  non-null values\n",
        "Rows          650  non-null values\n",
        "Source        650  non-null values\n",
        "dtypes: object(5)\n",
        "</pre>"
       ],
       "output_type": "pyout",
       "prompt_number": 5,
       "text": [
        "<class 'pandas.core.frame.DataFrame'>\n",
        "Int64Index: 650 entries, 0 to 649\n",
        "Data columns (total 5 columns):\n",
        "Copyright     650  non-null values\n",
        "LastUpdate    650  non-null values\n",
        "Notes         650  non-null values\n",
        "Rows          650  non-null values\n",
        "Source        650  non-null values\n",
        "dtypes: object(5)"
       ]
      }
     ],
     "prompt_number": 5
    },
    {
     "cell_type": "code",
     "collapsed": false,
     "input": [
      "unem.Rows[3]"
     ],
     "language": "python",
     "metadata": {},
     "outputs": [
      {
       "output_type": "pyout",
       "prompt_number": 15,
       "text": [
        "{u'constituencyname': u'Blyth Valley',\n",
        " u'countryid': u'K02000001',\n",
        " u'countryname': u'UK',\n",
        " u'dateofdataset': u'2010-05-01T00:00:00',\n",
        " u'datethisupdate': u'2013-10-16T00:00:00',\n",
        " u'onsconstid': u'E14000575',\n",
        " u'regionid': u'E15000001',\n",
        " u'regionname': u'North East',\n",
        " u'unempconstcountryrank': 0.0,\n",
        " u'unempconstnumber': 2248.0,\n",
        " u'unempconstrate': 0.055068737521804,\n",
        " u'unempcountrynumber': 1502155.0,\n",
        " u'unempcountryrate': 0.047924075944367005,\n",
        " u'unempregionnumber': 80105.0,\n",
        " u'unempregionrate': 0.064243841286268}"
       ]
      }
     ],
     "prompt_number": 15
    },
    {
     "cell_type": "code",
     "collapsed": false,
     "input": [
      "wage.Rows[0]"
     ],
     "language": "python",
     "metadata": {},
     "outputs": [
      {
       "output_type": "pyout",
       "prompt_number": 19,
       "text": [
        "{u'constituencyname': u'Berwick-upon-Tweed',\n",
        " u'countryid': u'K02000001',\n",
        " u'countryname': u'UK',\n",
        " u'dateofdataset': u'2012-01-01T00:00:00',\n",
        " u'dateofthisupdate': u'2013-03-13T00:00:00',\n",
        " u'onsconstid': u'E14000554',\n",
        " u'regionid': u'E15000001',\n",
        " u'regionname': u'North East',\n",
        " u'wageconstcountryrank': 420.0,\n",
        " u'wagemedianconst': 440.0,\n",
        " u'wagemediancountry': 510.0,\n",
        " u'wagemedianregion': 460.0}"
       ]
      }
     ],
     "prompt_number": 19
    },
    {
     "cell_type": "code",
     "collapsed": false,
     "input": [],
     "language": "python",
     "metadata": {},
     "outputs": []
    }
   ],
   "metadata": {}
  }
 ]
}